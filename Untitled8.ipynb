{
  "nbformat": 4,
  "nbformat_minor": 0,
  "metadata": {
    "colab": {
      "provenance": []
    },
    "kernelspec": {
      "name": "python3",
      "display_name": "Python 3"
    },
    "language_info": {
      "name": "python"
    }
  },
  "cells": [
    {
      "cell_type": "code",
      "source": [
        "import requests\n",
        "from bs4 import BeautifulSoup\n",
        "import pandas as pd\n",
        "from datetime import datetime\n",
        "import calendar\n",
        "\n",
        "try:\n",
        "    re = requests.get(\"https://weather.com/en-IN/weather/tenday/l/a5f0fe2ff9a40acc9ce62d67cd99439a71cde78cc0c5c1fbf6da052bef4cdba9\")\n",
        "    re.raise_for_status()\n",
        "\n",
        "    soup = BeautifulSoup(re.text, 'html.parser')\n",
        "\n",
        "    daily_forecasts = soup.find_all('details', class_='DaypartDetails--DayPartDetail--2XOOV')\n",
        "\n",
        "    Date = []\n",
        "    Day = []\n",
        "    High_temperature = []\n",
        "    Low_temperature = []\n",
        "    Weather_conditions = []\n",
        "    Rain_Percentage = []\n",
        "    Wind_Speed = []\n",
        "    Wind_direction = []\n",
        "\n",
        "    day_name_mapping = {name[:3]: name for name in calendar.day_name}\n",
        "\n",
        "    for weather in daily_forecasts[-10:]:\n",
        "        try:\n",
        "            date_tag = weather.find('h2', class_=\"DetailsSummary--daypartName--kbngc\")\n",
        "            if date_tag:\n",
        "                date_text = date_tag.get_text(strip=True).split(' ', 1)\n",
        "                if len(date_text) == 2:\n",
        "                    day_abbr = date_text[0]\n",
        "                    day_ = day_name_mapping.get(day_abbr, day_abbr)\n",
        "                    date_ = date_text[1]\n",
        "                    Date.append(date_)\n",
        "                    Day.append(day_)\n",
        "                else:\n",
        "                    Date.append(None)\n",
        "                    Day.append(None)\n",
        "            else:\n",
        "                Date.append(None)\n",
        "                Day.append(None)\n",
        "\n",
        "            high_temp_tag = weather.find('span', class_=\"DetailsSummary--highTempValue--3PjlX\")\n",
        "            High_temperature.append(high_temp_tag.text if high_temp_tag else None)\n",
        "\n",
        "            low_temp_tag = weather.find('span', class_=\"DetailsSummary--lowTempValue--2tesQ\")\n",
        "            Low_temperature.append(low_temp_tag.text if low_temp_tag else None)\n",
        "\n",
        "            conditions_tag = weather.find('span', class_=\"DetailsSummary--extendedData--307Ax\")\n",
        "            Weather_conditions.append(conditions_tag.text if conditions_tag else None)\n",
        "\n",
        "            precip_tag = weather.find('div', class_=\"DetailsSummary--precip--1a98O\")\n",
        "            Rain_Percentage.append(precip_tag.span.text if precip_tag and precip_tag.span else None)\n",
        "\n",
        "            wind_tag = weather.find('span', class_=\"Wind--windWrapper--3Ly7c\")\n",
        "            if wind_tag:\n",
        "                wind_text = wind_tag.get_text(strip=False).split(' ')\n",
        "                wind_direction = wind_text[0] if len(wind_text) > 1 else None\n",
        "                wind_speed = wind_text[1] if len(wind_text) > 1 else None\n",
        "            else:\n",
        "                wind_direction = None\n",
        "                wind_speed = None\n",
        "            Wind_Speed.append(wind_speed)\n",
        "            Wind_direction.append(wind_direction)\n",
        "\n",
        "            print(f\"Date: {date_}, Day: {day_}, High Temp: {High_temperature[-1]}, Low Temp: {Low_temperature[-1]}, Conditions: {Weather_conditions[-1]}, Rain: {Rain_Percentage[-1]}, Wind Direction: {Wind_direction[-1]}, Wind Speed: {Wind_Speed[-1]}\")\n",
        "\n",
        "        except Exception as e:\n",
        "            print(f\"Error processing weather data: {e}\")\n",
        "\n",
        "    df = pd.DataFrame({\n",
        "        'Date': Date,\n",
        "        'Day': Day,\n",
        "        'High_temperature': High_temperature,\n",
        "        'Low_temperature': Low_temperature,\n",
        "        'Weather_conditions': Weather_conditions,\n",
        "        'Rain_percentage': Rain_Percentage,\n",
        "        'Wind_speed': Wind_Speed,\n",
        "        'Wind_direction': Wind_direction\n",
        "    })\n",
        "\n",
        "    df.to_csv('webscraping1.csv', index=False)\n",
        "    print(\"webscraping1.csv has been created.\")\n",
        "\n",
        "except Exception as e:\n",
        "    print(e)\n"
      ],
      "metadata": {
        "colab": {
          "base_uri": "https://localhost:8080/"
        },
        "id": "gI3JyaLs5nhw",
        "outputId": "ccce38a0-af7c-4910-e5b3-3ec543725b9e"
      },
      "execution_count": 19,
      "outputs": [
        {
          "output_type": "stream",
          "name": "stdout",
          "text": [
            "Date: 29, Day: Monday, High Temp: 36°, Low Temp: 29°, Conditions: Showers, Rain: 38%, Wind Direction: ESE, Wind Speed: 13 km/h\n",
            "Date: 30, Day: Tuesday, High Temp: 34°, Low Temp: 28°, Conditions: Scattered T-Storms, Rain: 57%, Wind Direction: E, Wind Speed: 9 km/h\n",
            "Date: 31, Day: Wednesday, High Temp: 30°, Low Temp: 27°, Conditions: T-Storms, Rain: 68%, Wind Direction: ESE, Wind Speed: 10 km/h\n",
            "Date: 01, Day: Thursday, High Temp: 31°, Low Temp: 27°, Conditions: T-Showers, Rain: 60%, Wind Direction: E, Wind Speed: 10 km/h\n",
            "Date: 02, Day: Friday, High Temp: 32°, Low Temp: 27°, Conditions: Rain / Thunder, Rain: 60%, Wind Direction: E, Wind Speed: 12 km/h\n",
            "Date: 03, Day: Saturday, High Temp: 32°, Low Temp: 27°, Conditions: Light Rain, Rain: 60%, Wind Direction: ESE, Wind Speed: 13 km/h\n",
            "Date: 04, Day: Sunday, High Temp: 32°, Low Temp: 28°, Conditions: Scattered T-Storms, Rain: 57%, Wind Direction: ESE, Wind Speed: 13 km/h\n",
            "Date: 05, Day: Monday, High Temp: 32°, Low Temp: 28°, Conditions: Rain / Thunder, Rain: 60%, Wind Direction: E, Wind Speed: 11 km/h\n",
            "Date: 06, Day: Tuesday, High Temp: 31°, Low Temp: 27°, Conditions: T-Storms, Rain: 60%, Wind Direction: NW, Wind Speed: 12 km/h\n",
            "Date: 07, Day: Wednesday, High Temp: 31°, Low Temp: 27°, Conditions: Showers, Rain: 58%, Wind Direction: ESE, Wind Speed: 12 km/h\n",
            "webscraping1.csv has been created.\n"
          ]
        }
      ]
    }
  ]
}